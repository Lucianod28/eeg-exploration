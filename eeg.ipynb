{
 "cells": [
  {
   "cell_type": "markdown",
   "metadata": {},
   "source": [
    "# Fast fourier transform - EEG "
   ]
  },
  {
   "cell_type": "code",
   "execution_count": 27,
   "metadata": {
    "collapsed": true
   },
   "outputs": [],
   "source": [
    "%matplotlib inline\n",
    "import numpy as np\n",
    "import matplotlib.pyplot as plt\n",
    "import pandas as pd"
   ]
  },
  {
   "cell_type": "code",
   "execution_count": 28,
   "metadata": {
    "collapsed": true
   },
   "outputs": [],
   "source": [
    "df = pd.read_csv(\"/Users/luciano/Google Drive/Documents/University of Washington/Rao Lab/BrainAmp/SubjectMichelle___timestamp_1501862371.27/SubjectMichelle__eeg.csv\", header=8)"
   ]
  },
  {
   "cell_type": "code",
   "execution_count": 29,
   "metadata": {},
   "outputs": [
    {
     "data": {
      "text/html": [
       "<div>\n",
       "<style scoped>\n",
       "    .dataframe tbody tr th:only-of-type {\n",
       "        vertical-align: middle;\n",
       "    }\n",
       "\n",
       "    .dataframe tbody tr th {\n",
       "        vertical-align: top;\n",
       "    }\n",
       "\n",
       "    .dataframe thead th {\n",
       "        text-align: right;\n",
       "    }\n",
       "</style>\n",
       "<table border=\"1\" class=\"dataframe\">\n",
       "  <thead>\n",
       "    <tr style=\"text-align: right;\">\n",
       "      <th></th>\n",
       "      <th>Channel Names</th>\n",
       "      <th></th>\n",
       "      <th>Fp1</th>\n",
       "      <th>Fp2</th>\n",
       "      <th>F3</th>\n",
       "      <th>F4</th>\n",
       "      <th>C3</th>\n",
       "      <th>C4</th>\n",
       "      <th>P3</th>\n",
       "      <th>P4</th>\n",
       "      <th>...</th>\n",
       "      <th>CP1</th>\n",
       "      <th>CP2</th>\n",
       "      <th>FC5</th>\n",
       "      <th>FC6</th>\n",
       "      <th>CP5</th>\n",
       "      <th>CP6</th>\n",
       "      <th>TP9</th>\n",
       "      <th>TP10</th>\n",
       "      <th>POz</th>\n",
       "      <th>ECG']</th>\n",
       "    </tr>\n",
       "  </thead>\n",
       "  <tbody>\n",
       "    <tr>\n",
       "      <th>0</th>\n",
       "      <td>0</td>\n",
       "      <td>1.501862e+09</td>\n",
       "      <td>1029.0</td>\n",
       "      <td>1362.5</td>\n",
       "      <td>3019.0</td>\n",
       "      <td>3563.0</td>\n",
       "      <td>5953.5</td>\n",
       "      <td>2825.0</td>\n",
       "      <td>3116.5</td>\n",
       "      <td>41.5</td>\n",
       "      <td>...</td>\n",
       "      <td>3636.0</td>\n",
       "      <td>2662.5</td>\n",
       "      <td>4245.0</td>\n",
       "      <td>3674.5</td>\n",
       "      <td>3970.0</td>\n",
       "      <td>3722.0</td>\n",
       "      <td>5748.5</td>\n",
       "      <td>3043.0</td>\n",
       "      <td>6590.0</td>\n",
       "      <td>16383.5</td>\n",
       "    </tr>\n",
       "    <tr>\n",
       "      <th>1</th>\n",
       "      <td>0</td>\n",
       "      <td>1.501862e+09</td>\n",
       "      <td>1102.0</td>\n",
       "      <td>1414.5</td>\n",
       "      <td>3078.5</td>\n",
       "      <td>3611.5</td>\n",
       "      <td>5996.5</td>\n",
       "      <td>2871.0</td>\n",
       "      <td>3158.0</td>\n",
       "      <td>52.0</td>\n",
       "      <td>...</td>\n",
       "      <td>3659.0</td>\n",
       "      <td>2692.0</td>\n",
       "      <td>4284.0</td>\n",
       "      <td>3706.5</td>\n",
       "      <td>4008.0</td>\n",
       "      <td>3754.5</td>\n",
       "      <td>5794.5</td>\n",
       "      <td>3079.5</td>\n",
       "      <td>6615.5</td>\n",
       "      <td>16383.5</td>\n",
       "    </tr>\n",
       "    <tr>\n",
       "      <th>2</th>\n",
       "      <td>0</td>\n",
       "      <td>1.501862e+09</td>\n",
       "      <td>1152.0</td>\n",
       "      <td>1448.0</td>\n",
       "      <td>3110.5</td>\n",
       "      <td>3640.0</td>\n",
       "      <td>6017.0</td>\n",
       "      <td>2898.0</td>\n",
       "      <td>3177.5</td>\n",
       "      <td>54.0</td>\n",
       "      <td>...</td>\n",
       "      <td>3667.5</td>\n",
       "      <td>2704.0</td>\n",
       "      <td>4301.0</td>\n",
       "      <td>3719.0</td>\n",
       "      <td>4022.5</td>\n",
       "      <td>3769.5</td>\n",
       "      <td>5813.5</td>\n",
       "      <td>3097.5</td>\n",
       "      <td>6623.0</td>\n",
       "      <td>16383.5</td>\n",
       "    </tr>\n",
       "    <tr>\n",
       "      <th>3</th>\n",
       "      <td>0</td>\n",
       "      <td>1.501862e+09</td>\n",
       "      <td>1151.5</td>\n",
       "      <td>1439.5</td>\n",
       "      <td>3097.5</td>\n",
       "      <td>3630.5</td>\n",
       "      <td>6004.5</td>\n",
       "      <td>2887.0</td>\n",
       "      <td>3163.5</td>\n",
       "      <td>53.5</td>\n",
       "      <td>...</td>\n",
       "      <td>3650.5</td>\n",
       "      <td>2685.5</td>\n",
       "      <td>4284.0</td>\n",
       "      <td>3706.0</td>\n",
       "      <td>4003.5</td>\n",
       "      <td>3754.5</td>\n",
       "      <td>5789.0</td>\n",
       "      <td>3082.5</td>\n",
       "      <td>6597.0</td>\n",
       "      <td>16383.5</td>\n",
       "    </tr>\n",
       "    <tr>\n",
       "      <th>4</th>\n",
       "      <td>0</td>\n",
       "      <td>1.501862e+09</td>\n",
       "      <td>1098.0</td>\n",
       "      <td>1389.0</td>\n",
       "      <td>3044.5</td>\n",
       "      <td>3583.0</td>\n",
       "      <td>5962.0</td>\n",
       "      <td>2847.5</td>\n",
       "      <td>3120.5</td>\n",
       "      <td>54.0</td>\n",
       "      <td>...</td>\n",
       "      <td>3615.5</td>\n",
       "      <td>2648.5</td>\n",
       "      <td>4240.5</td>\n",
       "      <td>3667.5</td>\n",
       "      <td>3955.5</td>\n",
       "      <td>3714.5</td>\n",
       "      <td>5729.5</td>\n",
       "      <td>3040.0</td>\n",
       "      <td>6539.5</td>\n",
       "      <td>16383.5</td>\n",
       "    </tr>\n",
       "  </tbody>\n",
       "</table>\n",
       "<p>5 rows × 34 columns</p>\n",
       "</div>"
      ],
      "text/plain": [
       "   Channel Names            \\t     Fp1     Fp2      F3      F4      C3  \\\n",
       "0              0  1.501862e+09  1029.0  1362.5  3019.0  3563.0  5953.5   \n",
       "1              0  1.501862e+09  1102.0  1414.5  3078.5  3611.5  5996.5   \n",
       "2              0  1.501862e+09  1152.0  1448.0  3110.5  3640.0  6017.0   \n",
       "3              0  1.501862e+09  1151.5  1439.5  3097.5  3630.5  6004.5   \n",
       "4              0  1.501862e+09  1098.0  1389.0  3044.5  3583.0  5962.0   \n",
       "\n",
       "       C4      P3    P4   ...        CP1     CP2     FC5     FC6     CP5  \\\n",
       "0  2825.0  3116.5  41.5   ...     3636.0  2662.5  4245.0  3674.5  3970.0   \n",
       "1  2871.0  3158.0  52.0   ...     3659.0  2692.0  4284.0  3706.5  4008.0   \n",
       "2  2898.0  3177.5  54.0   ...     3667.5  2704.0  4301.0  3719.0  4022.5   \n",
       "3  2887.0  3163.5  53.5   ...     3650.5  2685.5  4284.0  3706.0  4003.5   \n",
       "4  2847.5  3120.5  54.0   ...     3615.5  2648.5  4240.5  3667.5  3955.5   \n",
       "\n",
       "      CP6     TP9    TP10     POz    ECG']  \n",
       "0  3722.0  5748.5  3043.0  6590.0  16383.5  \n",
       "1  3754.5  5794.5  3079.5  6615.5  16383.5  \n",
       "2  3769.5  5813.5  3097.5  6623.0  16383.5  \n",
       "3  3754.5  5789.0  3082.5  6597.0  16383.5  \n",
       "4  3714.5  5729.5  3040.0  6539.5  16383.5  \n",
       "\n",
       "[5 rows x 34 columns]"
      ]
     },
     "execution_count": 29,
     "metadata": {},
     "output_type": "execute_result"
    }
   ],
   "source": [
    "df.head()"
   ]
  },
  {
   "cell_type": "code",
   "execution_count": 30,
   "metadata": {},
   "outputs": [
    {
     "data": {
      "text/plain": [
       "Index(['Channel Names', '\\t', 'Fp1', 'Fp2', 'F3', 'F4', 'C3', 'C4', 'P3', 'P4',\n",
       "       'O1', 'O2', 'F7', 'F8', 'T7', 'T8', 'P7', 'P8', 'Fz', 'Cz', 'Pz', 'Oz',\n",
       "       'FC1', 'FC2', 'CP1', 'CP2', 'FC5', 'FC6', 'CP5', 'CP6', 'TP9', 'TP10',\n",
       "       'POz', 'ECG']'],\n",
       "      dtype='object')"
      ]
     },
     "execution_count": 30,
     "metadata": {},
     "output_type": "execute_result"
    }
   ],
   "source": [
    "df.columns"
   ]
  },
  {
   "cell_type": "code",
   "execution_count": 31,
   "metadata": {},
   "outputs": [
    {
     "data": {
      "text/plain": [
       "[<matplotlib.lines.Line2D at 0x109f7b048>]"
      ]
     },
     "execution_count": 31,
     "metadata": {},
     "output_type": "execute_result"
    },
    {
     "data": {
      "image/png": "[encoded data removed]",
      "text/plain": [
       "<Figure size 432x288 with 1 Axes>"
      ]
     },
     "metadata": {},
     "output_type": "display_data"
    }
   ],
   "source": [
    "plt.plot(df.O1)"
   ]
  },
  {
   "cell_type": "code",
   "execution_count": 32,
   "metadata": {},
   "outputs": [
    {
     "data": {
      "text/plain": [
       "164190"
      ]
     },
     "execution_count": 32,
     "metadata": {},
     "output_type": "execute_result"
    }
   ],
   "source": [
    "o1_data = df.O1\n",
    "len(o1_data)"
   ]
  },
  {
   "cell_type": "code",
   "execution_count": 33,
   "metadata": {
    "collapsed": true
   },
   "outputs": [],
   "source": [
    "one_sec = df.O1[:500]"
   ]
  },
  {
   "cell_type": "code",
   "execution_count": 34,
   "metadata": {},
   "outputs": [
    {
     "data": {
      "text/plain": [
       "[<matplotlib.lines.Line2D at 0x10a382c50>]"
      ]
     },
     "execution_count": 34,
     "metadata": {},
     "output_type": "execute_result"
    },
    {
     "data": {
      "image/png": "[encoded data removed]",
      "text/plain": [
       "<Figure size 432x288 with 1 Axes>"
      ]
     },
     "metadata": {},
     "output_type": "display_data"
    }
   ],
   "source": [
    "plt.plot(one_sec)"
   ]
  },
  {
   "cell_type": "code",
   "execution_count": 14,
   "metadata": {
    "collapsed": true
   },
   "outputs": [],
   "source": [
    "from scipy.fftpack import fft\n",
    "from scipy.signal import welch"
   ]
  },
  {
   "cell_type": "code",
   "execution_count": 15,
   "metadata": {
    "collapsed": true
   },
   "outputs": [],
   "source": [
    "f, power = welch(one_sec, fs=500, nperseg=500)"
   ]
  },
  {
   "cell_type": "code",
   "execution_count": 16,
   "metadata": {},
   "outputs": [
    {
     "data": {
      "text/plain": [
       "[<matplotlib.lines.Line2D at 0x10b46e1d0>]"
      ]
     },
     "execution_count": 16,
     "metadata": {},
     "output_type": "execute_result"
    }
   ],
   "source": [
    "plt.plot(f[:50], power[:50])"
   ]
  },
  {
   "cell_type": "code",
   "execution_count": 18,
   "metadata": {},
   "outputs": [
    {
     "data": {
      "text/plain": [
       "[<matplotlib.lines.Line2D at 0x10b46e710>]"
      ]
     },
     "execution_count": 18,
     "metadata": {},
     "output_type": "execute_result"
    }
   ],
   "source": [
    "plt.plot(f, power)"
   ]
  },
  {
   "cell_type": "code",
   "execution_count": 37,
   "metadata": {},
   "outputs": [
    {
     "name": "stdout",
     "output_type": "stream",
     "text": [
      "251\n"
     ]
    }
   ],
   "source": [
    "print(len(power))"
   ]
  },
  {
   "cell_type": "code",
   "execution_count": null,
   "metadata": {
    "collapsed": true
   },
   "outputs": [],
   "source": []
  }
 ],
 "metadata": {
  "kernelspec": {
   "display_name": "Python 3",
   "language": "python",
   "name": "python3"
  },
  "language_info": {
   "codemirror_mode": {
    "name": "ipython",
    "version": 3
   },
   "file_extension": ".py",
   "mimetype": "text/x-python",
   "name": "python",
   "nbconvert_exporter": "python",
   "pygments_lexer": "ipython3",
   "version": "3.6.0"
  }
 },
 "nbformat": 4,
 "nbformat_minor": 2
}
