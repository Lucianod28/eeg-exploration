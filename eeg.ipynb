{
 "cells": [
  {
   "cell_type": "markdown",
   "metadata": {},
   "source": [
    "# Fast fourier transform - EEG "
   ]
  },
  {
   "cell_type": "code",
   "execution_count": 115,
   "metadata": {},
   "outputs": [],
   "source": [
    "import numpy as np\n",
    "import matplotlib.pyplot as plt\n",
    "import pandas as pd"
   ]
  },
  {
   "cell_type": "code",
   "execution_count": 126,
   "metadata": {},
   "outputs": [],
   "source": [
    "df = pd.read_csv(\"/Users/lpjiang/Downloads/SubjectMichelle__eeg.csv\", header=8)"
   ]
  },
  {
   "cell_type": "code",
   "execution_count": 127,
   "metadata": {},
   "outputs": [
    {
     "data": {
      "text/html": [
       "<div>\n",
       "<style scoped>\n",
       "    .dataframe tbody tr th:only-of-type {\n",
       "        vertical-align: middle;\n",
       "    }\n",
       "\n",
       "    .dataframe tbody tr th {\n",
       "        vertical-align: top;\n",
       "    }\n",
       "\n",
       "    .dataframe thead th {\n",
       "        text-align: right;\n",
       "    }\n",
       "</style>\n",
       "<table border=\"1\" class=\"dataframe\">\n",
       "  <thead>\n",
       "    <tr style=\"text-align: right;\">\n",
       "      <th></th>\n",
       "      <th>ChannelNames</th>\n",
       "      <th></th>\n",
       "      <th>Fp1</th>\n",
       "      <th>Fp2</th>\n",
       "      <th>F3</th>\n",
       "      <th>F4</th>\n",
       "      <th>C3</th>\n",
       "      <th>C4</th>\n",
       "      <th>P3</th>\n",
       "      <th>P4</th>\n",
       "      <th>...</th>\n",
       "      <th>CP1</th>\n",
       "      <th>CP2</th>\n",
       "      <th>FC5</th>\n",
       "      <th>FC6</th>\n",
       "      <th>CP5</th>\n",
       "      <th>CP6</th>\n",
       "      <th>TP9</th>\n",
       "      <th>TP10</th>\n",
       "      <th>POz</th>\n",
       "      <th>ECG</th>\n",
       "    </tr>\n",
       "  </thead>\n",
       "  <tbody>\n",
       "    <tr>\n",
       "      <th>0</th>\n",
       "      <td>0</td>\n",
       "      <td>1.501864e+09</td>\n",
       "      <td>2297.5</td>\n",
       "      <td>212.5</td>\n",
       "      <td>1680.0</td>\n",
       "      <td>-4514.0</td>\n",
       "      <td>-1861.0</td>\n",
       "      <td>-6246.0</td>\n",
       "      <td>-2814.5</td>\n",
       "      <td>112.0</td>\n",
       "      <td>...</td>\n",
       "      <td>-2244.5</td>\n",
       "      <td>-4224.5</td>\n",
       "      <td>-2409.5</td>\n",
       "      <td>-3096.0</td>\n",
       "      <td>-2550.0</td>\n",
       "      <td>-2339.5</td>\n",
       "      <td>-3678.0</td>\n",
       "      <td>-7793.0</td>\n",
       "      <td>886.0</td>\n",
       "      <td>15983.0</td>\n",
       "    </tr>\n",
       "    <tr>\n",
       "      <th>1</th>\n",
       "      <td>0</td>\n",
       "      <td>1.501864e+09</td>\n",
       "      <td>2272.5</td>\n",
       "      <td>201.5</td>\n",
       "      <td>1671.0</td>\n",
       "      <td>-4512.5</td>\n",
       "      <td>-1874.5</td>\n",
       "      <td>-6255.0</td>\n",
       "      <td>-2830.5</td>\n",
       "      <td>73.0</td>\n",
       "      <td>...</td>\n",
       "      <td>-2248.0</td>\n",
       "      <td>-4227.0</td>\n",
       "      <td>-2408.0</td>\n",
       "      <td>-3096.5</td>\n",
       "      <td>-2561.0</td>\n",
       "      <td>-2348.5</td>\n",
       "      <td>-3676.0</td>\n",
       "      <td>-7803.0</td>\n",
       "      <td>875.0</td>\n",
       "      <td>16120.0</td>\n",
       "    </tr>\n",
       "    <tr>\n",
       "      <th>2</th>\n",
       "      <td>0</td>\n",
       "      <td>1.501864e+09</td>\n",
       "      <td>2269.0</td>\n",
       "      <td>208.5</td>\n",
       "      <td>1679.5</td>\n",
       "      <td>-4498.5</td>\n",
       "      <td>-1872.0</td>\n",
       "      <td>-6245.0</td>\n",
       "      <td>-2827.5</td>\n",
       "      <td>84.0</td>\n",
       "      <td>...</td>\n",
       "      <td>-2245.5</td>\n",
       "      <td>-4217.0</td>\n",
       "      <td>-2402.0</td>\n",
       "      <td>-3085.0</td>\n",
       "      <td>-2558.0</td>\n",
       "      <td>-2351.0</td>\n",
       "      <td>-3665.5</td>\n",
       "      <td>-7802.5</td>\n",
       "      <td>874.5</td>\n",
       "      <td>16236.5</td>\n",
       "    </tr>\n",
       "    <tr>\n",
       "      <th>3</th>\n",
       "      <td>0</td>\n",
       "      <td>1.501864e+09</td>\n",
       "      <td>2301.5</td>\n",
       "      <td>239.5</td>\n",
       "      <td>1704.0</td>\n",
       "      <td>-4462.5</td>\n",
       "      <td>-1842.0</td>\n",
       "      <td>-6211.5</td>\n",
       "      <td>-2797.0</td>\n",
       "      <td>90.0</td>\n",
       "      <td>...</td>\n",
       "      <td>-2227.0</td>\n",
       "      <td>-4192.0</td>\n",
       "      <td>-2385.5</td>\n",
       "      <td>-3063.0</td>\n",
       "      <td>-2534.0</td>\n",
       "      <td>-2337.5</td>\n",
       "      <td>-3637.5</td>\n",
       "      <td>-7781.0</td>\n",
       "      <td>894.0</td>\n",
       "      <td>16313.0</td>\n",
       "    </tr>\n",
       "    <tr>\n",
       "      <th>4</th>\n",
       "      <td>0</td>\n",
       "      <td>1.501864e+09</td>\n",
       "      <td>2331.5</td>\n",
       "      <td>263.5</td>\n",
       "      <td>1719.0</td>\n",
       "      <td>-4437.0</td>\n",
       "      <td>-1816.5</td>\n",
       "      <td>-6180.5</td>\n",
       "      <td>-2770.5</td>\n",
       "      <td>76.5</td>\n",
       "      <td>...</td>\n",
       "      <td>-2214.5</td>\n",
       "      <td>-4174.5</td>\n",
       "      <td>-2381.0</td>\n",
       "      <td>-3049.5</td>\n",
       "      <td>-2515.5</td>\n",
       "      <td>-2329.5</td>\n",
       "      <td>-3618.0</td>\n",
       "      <td>-7765.0</td>\n",
       "      <td>911.0</td>\n",
       "      <td>16343.0</td>\n",
       "    </tr>\n",
       "  </tbody>\n",
       "</table>\n",
       "<p>5 rows × 34 columns</p>\n",
       "</div>"
      ],
      "text/plain": [
       "   ChannelNames            \\t   \\tFp1    Fp2      F3      F4      C3      C4  \\\n",
       "0             0  1.501864e+09  2297.5  212.5  1680.0 -4514.0 -1861.0 -6246.0   \n",
       "1             0  1.501864e+09  2272.5  201.5  1671.0 -4512.5 -1874.5 -6255.0   \n",
       "2             0  1.501864e+09  2269.0  208.5  1679.5 -4498.5 -1872.0 -6245.0   \n",
       "3             0  1.501864e+09  2301.5  239.5  1704.0 -4462.5 -1842.0 -6211.5   \n",
       "4             0  1.501864e+09  2331.5  263.5  1719.0 -4437.0 -1816.5 -6180.5   \n",
       "\n",
       "       P3     P4   ...        CP1     CP2     FC5     FC6     CP5     CP6  \\\n",
       "0 -2814.5  112.0   ...    -2244.5 -4224.5 -2409.5 -3096.0 -2550.0 -2339.5   \n",
       "1 -2830.5   73.0   ...    -2248.0 -4227.0 -2408.0 -3096.5 -2561.0 -2348.5   \n",
       "2 -2827.5   84.0   ...    -2245.5 -4217.0 -2402.0 -3085.0 -2558.0 -2351.0   \n",
       "3 -2797.0   90.0   ...    -2227.0 -4192.0 -2385.5 -3063.0 -2534.0 -2337.5   \n",
       "4 -2770.5   76.5   ...    -2214.5 -4174.5 -2381.0 -3049.5 -2515.5 -2329.5   \n",
       "\n",
       "      TP9    TP10    POz      ECG  \n",
       "0 -3678.0 -7793.0  886.0  15983.0  \n",
       "1 -3676.0 -7803.0  875.0  16120.0  \n",
       "2 -3665.5 -7802.5  874.5  16236.5  \n",
       "3 -3637.5 -7781.0  894.0  16313.0  \n",
       "4 -3618.0 -7765.0  911.0  16343.0  \n",
       "\n",
       "[5 rows x 34 columns]"
      ]
     },
     "execution_count": 127,
     "metadata": {},
     "output_type": "execute_result"
    }
   ],
   "source": [
    "df.head()"
   ]
  },
  {
   "cell_type": "code",
   "execution_count": 129,
   "metadata": {},
   "outputs": [
    {
     "data": {
      "text/plain": [
       "Index(['ChannelNames', '\\t', '\\tFp1', 'Fp2', 'F3', 'F4', 'C3', 'C4', 'P3',\n",
       "       'P4', 'O1', 'O2', 'F7', 'F8', 'T7', 'T8', 'P7', 'P8', 'Fz', 'Cz', 'Pz',\n",
       "       'Oz', 'FC1', 'FC2', 'CP1', 'CP2', 'FC5', 'FC6', 'CP5', 'CP6', 'TP9',\n",
       "       'TP10', 'POz', 'ECG'],\n",
       "      dtype='object')"
      ]
     },
     "execution_count": 129,
     "metadata": {},
     "output_type": "execute_result"
    }
   ],
   "source": [
    "df.columns"
   ]
  },
  {
   "cell_type": "code",
   "execution_count": 130,
   "metadata": {},
   "outputs": [
    {
     "data": {
      "text/plain": [
       "[<matplotlib.lines.Line2D at 0x1c1bbdb208>]"
      ]
     },
     "execution_count": 130,
     "metadata": {},
     "output_type": "execute_result"
    },
    {
     "data": {
      "image/png": "[encoded data removed]",
      "text/plain": [
       "<Figure size 432x288 with 1 Axes>"
      ]
     },
     "metadata": {},
     "output_type": "display_data"
    }
   ],
   "source": [
    "plt.plot(df.O1)"
   ]
  },
  {
   "cell_type": "code",
   "execution_count": 131,
   "metadata": {},
   "outputs": [
    {
     "data": {
      "text/plain": [
       "328000"
      ]
     },
     "execution_count": 131,
     "metadata": {},
     "output_type": "execute_result"
    }
   ],
   "source": [
    "o1_data = df.O1\n",
    "len(o1_data)"
   ]
  },
  {
   "cell_type": "code",
   "execution_count": 132,
   "metadata": {},
   "outputs": [],
   "source": [
    "one_sec = df.O1[:500]"
   ]
  },
  {
   "cell_type": "code",
   "execution_count": 133,
   "metadata": {},
   "outputs": [
    {
     "data": {
      "text/plain": [
       "[<matplotlib.lines.Line2D at 0x1c1bcb29e8>]"
      ]
     },
     "execution_count": 133,
     "metadata": {},
     "output_type": "execute_result"
    },
    {
     "data": {
      "image/png": "[encoded data removed]",
      "text/plain": [
       "<Figure size 432x288 with 1 Axes>"
      ]
     },
     "metadata": {},
     "output_type": "display_data"
    }
   ],
   "source": [
    "plt.plot(one_sec)"
   ]
  },
  {
   "cell_type": "code",
   "execution_count": 104,
   "metadata": {},
   "outputs": [],
   "source": [
    "from scipy.fftpack import fft\n",
    "from scipy.signal import welch"
   ]
  },
  {
   "cell_type": "code",
   "execution_count": 134,
   "metadata": {},
   "outputs": [],
   "source": [
    "f, power = welch(one_sec, fs=500, nperseg=500)"
   ]
  },
  {
   "cell_type": "code",
   "execution_count": 136,
   "metadata": {},
   "outputs": [
    {
     "data": {
      "text/plain": [
       "[<matplotlib.lines.Line2D at 0x114f1be48>]"
      ]
     },
     "execution_count": 136,
     "metadata": {},
     "output_type": "execute_result"
    },
    {
     "data": {
      "image/png": "[encoded data removed]",
      "text/plain": [
       "<Figure size 432x288 with 1 Axes>"
      ]
     },
     "metadata": {},
     "output_type": "display_data"
    }
   ],
   "source": [
    "plt.plot(f[:50], power[:50])"
   ]
  },
  {
   "cell_type": "code",
   "execution_count": 137,
   "metadata": {},
   "outputs": [
    {
     "data": {
      "text/plain": [
       "[<matplotlib.lines.Line2D at 0x114e2e2e8>]"
      ]
     },
     "execution_count": 137,
     "metadata": {},
     "output_type": "execute_result"
    },
    {
     "data": {
      "image/png": "[encoded data removed]",
      "text/plain": [
       "<Figure size 432x288 with 1 Axes>"
      ]
     },
     "metadata": {},
     "output_type": "display_data"
    }
   ],
   "source": [
    "plt.plot(f, power)"
   ]
  },
  {
   "cell_type": "code",
   "execution_count": null,
   "metadata": {},
   "outputs": [],
   "source": []
  }
 ],
 "metadata": {
  "kernelspec": {
   "display_name": "Python 3",
   "language": "python",
   "name": "python3"
  },
  "language_info": {
   "codemirror_mode": {
    "name": "ipython",
    "version": 3
   },
   "file_extension": ".py",
   "mimetype": "text/x-python",
   "name": "python",
   "nbconvert_exporter": "python",
   "pygments_lexer": "ipython3",
   "version": "3.6.7"
  }
 },
 "nbformat": 4,
 "nbformat_minor": 2
}
